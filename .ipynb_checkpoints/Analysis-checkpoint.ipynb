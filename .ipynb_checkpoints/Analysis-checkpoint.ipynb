{
 "cells": [
  {
   "cell_type": "code",
   "execution_count": 9,
   "metadata": {},
   "outputs": [
    {
     "name": "stdout",
     "output_type": "stream",
     "text": [
      "/home/fabiotovar/Proyectos/Paralell-Computing/Labs/ParallelComputingLabs\r\n"
     ]
    }
   ],
   "source": [
    "!pwd"
   ]
  },
  {
   "cell_type": "code",
   "execution_count": 8,
   "metadata": {},
   "outputs": [
    {
     "name": "stdout",
     "output_type": "stream",
     "text": [
      "/bin/sh: 1: BlurEffect/bin/blur_effect: not found\r\n"
     ]
    }
   ],
   "source": [
    "!./BlurEffect/bin/blur-effect ./BlurEffect/img/test.png test3.png 15 4"
   ]
  },
  {
   "cell_type": "code",
   "execution_count": null,
   "metadata": {},
   "outputs": [],
   "source": [
    "pip install --user matplotlib\n",
    "pwd\n",
    "rm out.out\n",
    "\n",
    "for K in 3 5 7 9 11 13 15\n",
    "do\n",
    "  for THREADS in 1 2 4 8 16 32\n",
    "  do\n",
    "    echo \"#THREADS $THREADS KERN: $K\"\n",
    "    $OUT_FILENAME = \"${1%%.*}${K}${THREADS}.jpg\"\n",
    "    && ./blur_effect test.png test3.png 15 4      \n",
    "    (/usr/bin/time -f %e ./bin/blur_effect.o $1 /out/$OUT_FILENAME $K $THREADS) 2>>out.out\n",
    "  done\n",
    "done"
   ]
  }
 ],
 "metadata": {
  "kernelspec": {
   "display_name": "Python 3",
   "language": "python",
   "name": "python3"
  },
  "language_info": {
   "codemirror_mode": {
    "name": "ipython",
    "version": 3
   },
   "file_extension": ".py",
   "mimetype": "text/x-python",
   "name": "python",
   "nbconvert_exporter": "python",
   "pygments_lexer": "ipython3",
   "version": "3.6.9"
  }
 },
 "nbformat": 4,
 "nbformat_minor": 2
}
